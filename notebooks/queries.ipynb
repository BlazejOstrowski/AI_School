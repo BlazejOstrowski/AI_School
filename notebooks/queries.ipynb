{
 "cells": [
  {
   "cell_type": "code",
   "execution_count": null,
   "id": "675aa48a",
   "metadata": {},
   "outputs": [],
   "source": [
    "# ❓ Question: What is in New York?\n",
    "\n",
    "## 🔍 Vector Result:\n",
    "```json\n",
    "New York City is a global power city known for its significant impact on commerce, finance, media, art, fashion, research, technology, education, and entertainment. It is often described as the cultural and financial capital of the world and is home to the headquarters of the United Nations, making it an important center for international diplomacy [doc2]. \n",
    "\n",
    "The city is the most populous in the United States, with an estimated population of 8,550,405 as of 2015, spread over a land area of about 302.6 square miles. It is also the most densely populated major city in the country [doc3].\n",
    "\n",
    "For accommodations, Margie’s Travel offers several options in New York:\n",
    "- **The Manhattan Hotel**: Located in the heart of New York City, within walking distance of Times Square and Broadway [doc1].\n",
    "- **The Grand Central Hotel**: A comfortable mid-town hotel close to Grand Central Station, the Chrysler Building, and the Empire State Building [doc1].\n",
    "- **The Park Hotel**: Luxurious accommodation in upper Manhattan with views of Central Park [doc1].\n",
    "```"
   ]
  },
  {
   "cell_type": "code",
   "execution_count": null,
   "id": "9f213f2c",
   "metadata": {},
   "outputs": [],
   "source": [
    "## 💡 Semantic Result:\n",
    "```json\n",
    "New York City is the most populous city in the United States, with an estimated population of 8,550,405 as of 2015, spread over a land area of about 302.6 square miles. It is also the most densely populated major city in the country [doc3]. Located at the southern tip of the state of New York, the city is the center of the New York metropolitan area, one of the most populous urban agglomerations in the world [doc3]. \n",
    "\n",
    "New York City is a global power city, significantly influencing commerce, finance, media, art, fashion, research, technology, education, and entertainment. It is home to the headquarters of the United Nations, making it an important center for international diplomacy. The city is often described as the cultural and financial capital of the world [doc1].\n",
    "\n",
    "For accommodations, Margie’s Travel offers options such as:\n",
    "- **The Manhattan Hotel**: Located in the heart of New York City, within walking distance of Times Square and Broadway.\n",
    "- **The Grand Central Hotel**: A comfortable mid-town hotel near Grand Central Station, the Chrysler Building, and the Empire State Building.\n",
    "- **The Park Hotel**: Luxurious accommodation in upper Manhattan, offering views of Central Park [doc4].\n",
    "```"
   ]
  },
  {
   "cell_type": "code",
   "execution_count": null,
   "id": "6a15645d",
   "metadata": {},
   "outputs": [],
   "source": [
    "# Question: What is in London?\n",
    "\n",
    "## Vector Result:\n",
    "```json\n",
    "London, the capital and most populous city of England and the United Kingdom, is located on the River Thames in the southeast of Great Britain. It has been a major settlement for over two millennia, originally founded by the Romans and named Londinium. The ancient core of London, known as the City of London, retains its medieval boundaries of 1.12 square miles [doc2]. \n",
    "\n",
    "Today, Greater London encompasses areas historically split between Middlesex, Essex, Surrey, Kent, and Hertfordshire, and is governed by the Mayor of London and the London Assembly [doc3]. London is popular for leisure, outdoor activities, historical sites, arts, and culture [doc3]. Major sights include Buckingham Palace, Regent’s Park, Trafalgar Square, Tower Bridge, and the Tower of London [doc1]. \n",
    "\n",
    "The best time to visit London is between June and August, with average temperatures ranging from 56-67°F and average precipitation of 1.9 inches [doc3].\n",
    "```"
   ]
  },
  {
   "cell_type": "code",
   "execution_count": null,
   "id": "d8d599c6",
   "metadata": {},
   "outputs": [],
   "source": [
    "## Semantic Result:\n",
    "```json\n",
    "London is the capital and most populous city of England and the United Kingdom. It is located on the River Thames in the southeast of Great Britain and has been a major settlement for two millennia, originally founded by the Romans who named it Londinium. The ancient core of London, known as the City of London, largely retains its medieval boundaries of 1.12 square miles [doc1]. \n",
    "\n",
    "The metropolis around this core, historically split between Middlesex, Essex, Surrey, Kent, and Hertfordshire, now forms Greater London, governed by the Mayor of London and the London Assembly [doc2]. \n",
    "\n",
    "London is popular for leisure, outdoor activities, historical sites, arts, and culture. Some major sights include Buckingham Palace, Regent’s Park, Trafalgar Square, Tower Bridge, and the Tower of London [doc2][doc4].\n",
    "```"
   ]
  },
  {
   "cell_type": "code",
   "execution_count": null,
   "id": "593d8a33",
   "metadata": {},
   "outputs": [],
   "source": [
    "# Question: Plugin Test\n",
    "\n",
    "## Vector Result:\n",
    "```json\n",
    "The brochure mentions that a continental breakfast is included. It also provides a link to book a trip to San Francisco at www.margiestravel.com [doc1].\n",
    "```"
   ]
  },
  {
   "cell_type": "code",
   "execution_count": null,
   "id": "08326949",
   "metadata": {},
   "outputs": [],
   "source": [
    "## Semantic Result:\n",
    "```json\n",
    "(not applicable)\n",
    "```"
   ]
  },
  {
   "cell_type": "code",
   "execution_count": null,
   "id": "9fc81b62",
   "metadata": {},
   "outputs": [],
   "source": [
    "# Question: What interesting is in London?\n",
    "\n",
    "## Vector Result:\n",
    "```json\n",
    "London is a city rich in history, culture, and leisure activities. It is the capital and most populous city of England and the United Kingdom, standing on the River Thames in southeast Great Britain. London has been a major settlement for two millennia, originally founded by the Romans as Londinium [doc2]. \n",
    "\n",
    "The city is popular for its leisure, outdoor activities, historical landmarks, arts, and culture [doc3]. Some major sights include Buckingham Palace, Regent’s Park, Trafalgar Square, Tower Bridge, and the Tower of London [doc1]. \n",
    "\n",
    "The best time to visit London is between June and August, when the average temperature ranges from 56-67°F, and the average precipitation is 1.9 inches [doc3].\n",
    "```"
   ]
  },
  {
   "cell_type": "code",
   "execution_count": null,
   "id": "f7b58266",
   "metadata": {},
   "outputs": [],
   "source": [
    "## Semantic Result:\n",
    "```json\n",
    "London is a city rich in history, culture, and attractions. It is the capital and most populous city of England and the United Kingdom, standing on the River Thames in the southeast of Great Britain. London has been a major settlement for over two millennia, originally founded by the Romans and named Londinium [doc3].\n",
    "\n",
    "The city is popular for leisure, outdoor activities, historical landmarks, and arts and culture. Some major sights include Buckingham Palace, Regent’s Park, Trafalgar Square, Tower Bridge, and the Tower of London [doc2][doc4].\n",
    "```"
   ]
  },
  {
   "cell_type": "code",
   "execution_count": null,
   "id": "2a268bda",
   "metadata": {},
   "outputs": [],
   "source": [
    "# Question: Plugin Test\n",
    "\n",
    "## Vector Result:\n",
    "```json\n",
    "The brochure mentions that a continental breakfast is included. It also provides a link to book a trip to San Francisco at www.margiestravel.com [doc1].\n",
    "```"
   ]
  },
  {
   "cell_type": "code",
   "execution_count": null,
   "id": "e681f146",
   "metadata": {},
   "outputs": [],
   "source": [
    "## Semantic Result:\n",
    "```json\n",
    "(not applicable)\n",
    "```"
   ]
  },
  {
   "cell_type": "code",
   "execution_count": null,
   "id": "40d7c2fe",
   "metadata": {},
   "outputs": [],
   "source": [
    "# Question: What is in Las Vegas?\n",
    "\n",
    "## Vector Result:\n",
    "```json\n",
    "Las Vegas is an internationally renowned major resort city, primarily known for its gambling, shopping, fine dining, entertainment, and nightlife [doc4]. It serves as the leading financial, commercial, and cultural center for Nevada and anchors the Las Vegas Valley metropolitan area, which is the largest city within the greater Mojave Desert [doc4].\n",
    "```"
   ]
  },
  {
   "cell_type": "code",
   "execution_count": null,
   "id": "bcd369f9",
   "metadata": {},
   "outputs": [],
   "source": [
    "## Semantic Result:\n",
    "```json\n",
    "Las Vegas, officially known as the City of Las Vegas, is the 28th-most populated city in the United States and the most populated city in Nevada. It serves as the county seat of Clark County and anchors the Las Vegas Valley metropolitan area. It is also the largest city within the Mojave Desert. Las Vegas is internationally renowned as a major resort city, famous for its gambling, shopping, fine dining, entertainment, and nightlife [doc4].\n",
    "\n",
    "Additionally, Margie’s Travel offers several hotel options in Las Vegas, including:\n",
    "- **The Volcano Hotel**: Located in the heart of The Strip, featuring a stylish casino, live entertainment, and an extensive pool area.\n",
    "- **The Fountain Hotel**: A luxury accommodation with a variety of restaurants and cocktail bars.\n",
    "- **The Canal Hotel**: An opulent Italian-themed resort with luxurious suite accommodations [doc1].\n",
    "```"
   ]
  },
  {
   "cell_type": "code",
   "execution_count": null,
   "id": "3c26c871",
   "metadata": {},
   "outputs": [],
   "source": [
    "# Question: Plugin Test\n",
    "\n",
    "## Vector Result:\n",
    "```json\n",
    "The brochure mentions that a continental breakfast is included. It also provides a link to book a trip to San Francisco at www.margiestravel.com [doc1].\n",
    "```"
   ]
  },
  {
   "cell_type": "code",
   "execution_count": null,
   "id": "79df3933",
   "metadata": {},
   "outputs": [],
   "source": [
    "## Semantic Result:\n",
    "```json\n",
    "(not applicable)\n",
    "```"
   ]
  },
  {
   "cell_type": "code",
   "execution_count": null,
   "id": "a23f36ca",
   "metadata": {},
   "outputs": [],
   "source": [
    "# Question: What interesting is in Las Vegas?\n",
    "\n",
    "## Vector Result:\n",
    "```json\n",
    "Las Vegas is an internationally renowned major resort city, famous for its gambling, shopping, fine dining, entertainment, and nightlife. It serves as the leading financial, commercial, and cultural center for Nevada and is the largest city within the Mojave Desert [doc4].\n",
    "```"
   ]
  },
  {
   "cell_type": "code",
   "execution_count": null,
   "id": "13d11054",
   "metadata": {},
   "outputs": [],
   "source": [
    "## Semantic Result:\n",
    "```json\n",
    "Las Vegas, often referred to simply as Vegas, is an internationally renowned major resort city. It is famous for its gambling, shopping, fine dining, entertainment, and nightlife. The city serves as the leading financial, commercial, and cultural center for Nevada [doc4]. \n",
    "\n",
    "Additionally, Las Vegas offers a variety of luxurious hotels, such as:\n",
    "\n",
    "- **The Volcano Hotel**: Located in the heart of The Strip, it features a stylish casino, live entertainment, and an extensive pool area.\n",
    "- **The Fountain Hotel**: Known for its luxury accommodations, it offers a range of restaurants and cocktail bars.\n",
    "- **The Canal Hotel**: An opulent Italian-themed resort with luxurious suite accommodations [doc1]. \n",
    "\n",
    "If you're planning a trip, Margie’s Travel can assist with flights, accommodation, transfers, and more [doc2].\n",
    "```"
   ]
  },
  {
   "cell_type": "code",
   "execution_count": null,
   "id": "f2c96ad7",
   "metadata": {},
   "outputs": [],
   "source": [
    "# Question: What is in London?\n",
    "\n",
    "## Answer:\n",
    "```\n",
    "London is an exciting city with a rich history and vibrant culture. Key highlights include:\n",
    "\n",
    "1. **Historical Attractions**:\n",
    "   - **Buckingham Palace**: The official residence of the British monarch.\n",
    "   - **Tower of London**: A historic castle and UNESCO World Heritage Site.\n",
    "   - **Tower Bridge**: One of the most iconic landmarks in London.\n",
    "\n",
    "2. **Arts and Culture**:\n",
    "   - Numerous museums such as the British Museum, Tate Modern, and National Gallery.\n",
    "   - West End theatres renowned for world-class performances.\n",
    "\n",
    "3. **Outdoor and Leisure**:\n",
    "   - Parks like Regent’s Park, Hyde Park, and St. James’s Park.\n",
    "   - Strolling along the River Thames or enjoying a ride on the London Eye.\n",
    "\n",
    "4. **Shopping and Dining**:\n",
    "   - Famous shopping streets like Oxford Street and Covent Garden.\n",
    "   - Diverse cuisines in restaurants across the city.\n",
    "\n",
    "5. **Neighborhood Charm**:\n",
    "   - Discover areas like Camden, Notting Hill, and Soho for unique experiences.\n",
    "\n",
    "For accommodations, Margie’s Travel suggests The Buckingham Hotel, The City Hotel, or The Kensington Hotel. To book a trip, visit [Margie’s Travel](www.margiestravel.com).\n",
    "```"
   ]
  }
 ],
 "metadata": {},
 "nbformat": 4,
 "nbformat_minor": 5
}
