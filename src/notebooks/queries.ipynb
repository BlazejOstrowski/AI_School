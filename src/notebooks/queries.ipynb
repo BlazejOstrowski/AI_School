{
 "cells": [
  {
   "cell_type": "code",
   "execution_count": null,
   "id": "757f765a",
   "metadata": {},
   "outputs": [
    {
     "data": {
      "application/json": [
       {
        "@search.captions": null,
        "@search.document_debug_info": null,
        "@search.highlights": null,
        "@search.reranker_boosted_score": null,
        "@search.reranker_score": null,
        "@search.score": 0.7673302,
        "id": "10709068-42f7-41d7-9613-4057237c1173"
       },
       {
        "@search.captions": null,
        "@search.document_debug_info": null,
        "@search.highlights": null,
        "@search.reranker_boosted_score": null,
        "@search.reranker_score": null,
        "@search.score": 0.7672545,
        "id": "03e32990-78ce-4530-82f8-847e8ea6b638"
       },
       {
        "@search.captions": null,
        "@search.document_debug_info": null,
        "@search.highlights": null,
        "@search.reranker_boosted_score": null,
        "@search.reranker_score": null,
        "@search.score": 0.7672545,
        "id": "04fc9c04-110b-4f69-bb2e-63d18715e43d"
       }
      ]
     },
     "execution_count": 1,
     "metadata": {},
     "output_type": "execute_result"
    }
   ],
   "source": [
    "# Vector Query Result"
   ]
  },
  {
   "cell_type": "code",
   "execution_count": null,
   "id": "f2aa2c3a",
   "metadata": {},
   "outputs": [
    {
     "data": {
      "application/json": "[]"
     },
     "execution_count": 2,
     "metadata": {},
     "output_type": "execute_result"
    }
   ],
   "source": [
    "# Semantic Query Result"
   ]
  }
 ],
 "metadata": {},
 "nbformat": 4,
 "nbformat_minor": 5
}
